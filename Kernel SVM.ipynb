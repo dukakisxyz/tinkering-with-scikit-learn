{
 "cells": [
  {
   "cell_type": "code",
   "execution_count": 1,
   "metadata": {
    "collapsed": true
   },
   "outputs": [],
   "source": [
    "# K-Nearest Neighbors (K-NN)\n",
    "# Importing the libraries\n",
    "\n",
    "%matplotlib inline\n",
    "\n",
    "import numpy as np\n",
    "import matplotlib.pyplot as plt\n",
    "import pandas as pd"
   ]
  },
  {
   "cell_type": "code",
   "execution_count": 2,
   "metadata": {
    "collapsed": false
   },
   "outputs": [
    {
     "data": {
      "text/html": [
       "<div>\n",
       "<table border=\"1\" class=\"dataframe\">\n",
       "  <thead>\n",
       "    <tr style=\"text-align: right;\">\n",
       "      <th></th>\n",
       "      <th>feature1</th>\n",
       "      <th>feature2</th>\n",
       "      <th>feature3</th>\n",
       "      <th>feature4</th>\n",
       "      <th>feature5</th>\n",
       "      <th>feature6</th>\n",
       "      <th>feature7</th>\n",
       "      <th>feature8</th>\n",
       "      <th>feature9</th>\n",
       "      <th>feature10</th>\n",
       "      <th>...</th>\n",
       "      <th>feature42</th>\n",
       "      <th>feature43</th>\n",
       "      <th>feature44</th>\n",
       "      <th>feature45</th>\n",
       "      <th>feature46</th>\n",
       "      <th>feature47</th>\n",
       "      <th>feature48</th>\n",
       "      <th>feature49</th>\n",
       "      <th>feature50</th>\n",
       "      <th>target</th>\n",
       "    </tr>\n",
       "  </thead>\n",
       "  <tbody>\n",
       "    <tr>\n",
       "      <th>0</th>\n",
       "      <td>0.523989</td>\n",
       "      <td>0.450736</td>\n",
       "      <td>0.642132</td>\n",
       "      <td>0.283390</td>\n",
       "      <td>0.489685</td>\n",
       "      <td>0.365986</td>\n",
       "      <td>0.750027</td>\n",
       "      <td>0.441617</td>\n",
       "      <td>0.705939</td>\n",
       "      <td>0.298719</td>\n",
       "      <td>...</td>\n",
       "      <td>0.560302</td>\n",
       "      <td>0.568412</td>\n",
       "      <td>0.796156</td>\n",
       "      <td>0.298466</td>\n",
       "      <td>0.537179</td>\n",
       "      <td>0.394989</td>\n",
       "      <td>0.278652</td>\n",
       "      <td>0.366975</td>\n",
       "      <td>0.624429</td>\n",
       "      <td>1</td>\n",
       "    </tr>\n",
       "    <tr>\n",
       "      <th>1</th>\n",
       "      <td>0.361765</td>\n",
       "      <td>0.356233</td>\n",
       "      <td>0.695955</td>\n",
       "      <td>0.525630</td>\n",
       "      <td>0.710569</td>\n",
       "      <td>0.256446</td>\n",
       "      <td>0.597307</td>\n",
       "      <td>0.346839</td>\n",
       "      <td>0.460739</td>\n",
       "      <td>0.642520</td>\n",
       "      <td>...</td>\n",
       "      <td>0.351684</td>\n",
       "      <td>0.418981</td>\n",
       "      <td>0.469897</td>\n",
       "      <td>0.477661</td>\n",
       "      <td>0.392151</td>\n",
       "      <td>0.323126</td>\n",
       "      <td>0.695662</td>\n",
       "      <td>0.483652</td>\n",
       "      <td>0.472957</td>\n",
       "      <td>1</td>\n",
       "    </tr>\n",
       "    <tr>\n",
       "      <th>2</th>\n",
       "      <td>0.539965</td>\n",
       "      <td>0.515231</td>\n",
       "      <td>0.648920</td>\n",
       "      <td>0.351373</td>\n",
       "      <td>0.397574</td>\n",
       "      <td>0.583674</td>\n",
       "      <td>0.590925</td>\n",
       "      <td>0.593623</td>\n",
       "      <td>0.549570</td>\n",
       "      <td>0.200306</td>\n",
       "      <td>...</td>\n",
       "      <td>0.644756</td>\n",
       "      <td>0.641817</td>\n",
       "      <td>0.607814</td>\n",
       "      <td>0.365455</td>\n",
       "      <td>0.416702</td>\n",
       "      <td>0.353930</td>\n",
       "      <td>0.406990</td>\n",
       "      <td>0.486172</td>\n",
       "      <td>0.314644</td>\n",
       "      <td>0</td>\n",
       "    </tr>\n",
       "    <tr>\n",
       "      <th>3</th>\n",
       "      <td>0.443803</td>\n",
       "      <td>0.660315</td>\n",
       "      <td>0.193312</td>\n",
       "      <td>0.703555</td>\n",
       "      <td>0.331931</td>\n",
       "      <td>0.475221</td>\n",
       "      <td>0.472761</td>\n",
       "      <td>0.422789</td>\n",
       "      <td>0.499109</td>\n",
       "      <td>0.691708</td>\n",
       "      <td>...</td>\n",
       "      <td>0.662121</td>\n",
       "      <td>0.308120</td>\n",
       "      <td>0.621211</td>\n",
       "      <td>0.506328</td>\n",
       "      <td>0.455108</td>\n",
       "      <td>0.551172</td>\n",
       "      <td>0.142444</td>\n",
       "      <td>0.531190</td>\n",
       "      <td>0.632066</td>\n",
       "      <td>1</td>\n",
       "    </tr>\n",
       "    <tr>\n",
       "      <th>4</th>\n",
       "      <td>0.527979</td>\n",
       "      <td>0.671884</td>\n",
       "      <td>0.626454</td>\n",
       "      <td>0.519041</td>\n",
       "      <td>0.489633</td>\n",
       "      <td>0.422479</td>\n",
       "      <td>0.379481</td>\n",
       "      <td>0.649083</td>\n",
       "      <td>0.300018</td>\n",
       "      <td>0.584167</td>\n",
       "      <td>...</td>\n",
       "      <td>0.433420</td>\n",
       "      <td>0.349900</td>\n",
       "      <td>0.512786</td>\n",
       "      <td>0.369433</td>\n",
       "      <td>0.299567</td>\n",
       "      <td>0.426600</td>\n",
       "      <td>0.500205</td>\n",
       "      <td>0.647980</td>\n",
       "      <td>0.465402</td>\n",
       "      <td>0</td>\n",
       "    </tr>\n",
       "  </tbody>\n",
       "</table>\n",
       "<p>5 rows × 51 columns</p>\n",
       "</div>"
      ],
      "text/plain": [
       "   feature1  feature2  feature3  feature4  feature5  feature6  feature7  \\\n",
       "0  0.523989  0.450736  0.642132  0.283390  0.489685  0.365986  0.750027   \n",
       "1  0.361765  0.356233  0.695955  0.525630  0.710569  0.256446  0.597307   \n",
       "2  0.539965  0.515231  0.648920  0.351373  0.397574  0.583674  0.590925   \n",
       "3  0.443803  0.660315  0.193312  0.703555  0.331931  0.475221  0.472761   \n",
       "4  0.527979  0.671884  0.626454  0.519041  0.489633  0.422479  0.379481   \n",
       "\n",
       "   feature8  feature9  feature10   ...    feature42  feature43  feature44  \\\n",
       "0  0.441617  0.705939   0.298719   ...     0.560302   0.568412   0.796156   \n",
       "1  0.346839  0.460739   0.642520   ...     0.351684   0.418981   0.469897   \n",
       "2  0.593623  0.549570   0.200306   ...     0.644756   0.641817   0.607814   \n",
       "3  0.422789  0.499109   0.691708   ...     0.662121   0.308120   0.621211   \n",
       "4  0.649083  0.300018   0.584167   ...     0.433420   0.349900   0.512786   \n",
       "\n",
       "   feature45  feature46  feature47  feature48  feature49  feature50  target  \n",
       "0   0.298466   0.537179   0.394989   0.278652   0.366975   0.624429       1  \n",
       "1   0.477661   0.392151   0.323126   0.695662   0.483652   0.472957       1  \n",
       "2   0.365455   0.416702   0.353930   0.406990   0.486172   0.314644       0  \n",
       "3   0.506328   0.455108   0.551172   0.142444   0.531190   0.632066       1  \n",
       "4   0.369433   0.299567   0.426600   0.500205   0.647980   0.465402       0  \n",
       "\n",
       "[5 rows x 51 columns]"
      ]
     },
     "execution_count": 2,
     "metadata": {},
     "output_type": "execute_result"
    }
   ],
   "source": [
    "# Importing the dataset\n",
    "\n",
    "training_data = pd.read_csv('~/desktop/training_data.csv', header=0)\n",
    "prediction_data = pd.read_csv('~/desktop/tournament_data.csv', header=0)\n",
    "\n",
    "training_data.head()"
   ]
  },
  {
   "cell_type": "code",
   "execution_count": 4,
   "metadata": {
    "collapsed": true
   },
   "outputs": [],
   "source": [
    "# Transform the loaded CSV data into numpy arrays\n",
    "Y = training_data['target']\n",
    "X = training_data.drop('target', axis=1)\n",
    "t_id = prediction_data['t_id']\n",
    "x_prediction = prediction_data.drop('t_id', axis=1)"
   ]
  },
  {
   "cell_type": "code",
   "execution_count": 5,
   "metadata": {
    "collapsed": false
   },
   "outputs": [],
   "source": [
    "# Feature Scaling\n",
    "from sklearn.preprocessing import StandardScaler\n",
    "sc = StandardScaler()\n",
    "X = sc.fit_transform(X)\n",
    "x_prediction = sc.transform(x_prediction)"
   ]
  },
  {
   "cell_type": "code",
   "execution_count": 6,
   "metadata": {
    "collapsed": false
   },
   "outputs": [
    {
     "data": {
      "text/plain": [
       "SVC(C=1.0, cache_size=200, class_weight=None, coef0=0.0,\n",
       "  decision_function_shape=None, degree=3, gamma='auto', kernel='rbf',\n",
       "  max_iter=-1, probability=True, random_state=0, shrinking=True, tol=0.001,\n",
       "  verbose=False)"
      ]
     },
     "execution_count": 6,
     "metadata": {},
     "output_type": "execute_result"
    }
   ],
   "source": [
    "# Fitting Kernel SVM to the Training set\n",
    "from sklearn.svm import SVC\n",
    "classifier = SVC(kernel = 'rbf', probability=True, random_state = 0)\n",
    "classifier.fit(X, Y)"
   ]
  },
  {
   "cell_type": "code",
   "execution_count": 7,
   "metadata": {
    "collapsed": false
   },
   "outputs": [],
   "source": [
    "# Predicting the Test set results\n",
    "y_prediction = classifier.predict_proba(x_prediction)"
   ]
  },
  {
   "cell_type": "code",
   "execution_count": 8,
   "metadata": {
    "collapsed": false
   },
   "outputs": [
    {
     "data": {
      "text/html": [
       "<div>\n",
       "<table border=\"1\" class=\"dataframe\">\n",
       "  <thead>\n",
       "    <tr style=\"text-align: right;\">\n",
       "      <th></th>\n",
       "      <th>t_id</th>\n",
       "      <th>probability</th>\n",
       "    </tr>\n",
       "  </thead>\n",
       "  <tbody>\n",
       "    <tr>\n",
       "      <th>0</th>\n",
       "      <td>63770</td>\n",
       "      <td>0.527739</td>\n",
       "    </tr>\n",
       "    <tr>\n",
       "      <th>1</th>\n",
       "      <td>78049</td>\n",
       "      <td>0.519402</td>\n",
       "    </tr>\n",
       "    <tr>\n",
       "      <th>2</th>\n",
       "      <td>41745</td>\n",
       "      <td>0.520182</td>\n",
       "    </tr>\n",
       "    <tr>\n",
       "      <th>3</th>\n",
       "      <td>49386</td>\n",
       "      <td>0.470206</td>\n",
       "    </tr>\n",
       "    <tr>\n",
       "      <th>4</th>\n",
       "      <td>28187</td>\n",
       "      <td>0.466029</td>\n",
       "    </tr>\n",
       "  </tbody>\n",
       "</table>\n",
       "</div>"
      ],
      "text/plain": [
       "    t_id  probability\n",
       "0  63770     0.527739\n",
       "1  78049     0.519402\n",
       "2  41745     0.520182\n",
       "3  49386     0.470206\n",
       "4  28187     0.466029"
      ]
     },
     "execution_count": 8,
     "metadata": {},
     "output_type": "execute_result"
    }
   ],
   "source": [
    "results = y_prediction[:, 1]\n",
    "results_df = pd.DataFrame(data={'probability':results})\n",
    "joined = pd.DataFrame(t_id).join(results_df)\n",
    "joined.head()"
   ]
  },
  {
   "cell_type": "code",
   "execution_count": 9,
   "metadata": {
    "collapsed": true
   },
   "outputs": [],
   "source": [
    "joined.to_csv(\"KERNEL–SVM–predictions.csv\", index=False)"
   ]
  }
 ],
 "metadata": {
  "kernelspec": {
   "display_name": "Python 3",
   "language": "python",
   "name": "python3"
  },
  "language_info": {
   "codemirror_mode": {
    "name": "ipython",
    "version": 3
   },
   "file_extension": ".py",
   "mimetype": "text/x-python",
   "name": "python",
   "nbconvert_exporter": "python",
   "pygments_lexer": "ipython3",
   "version": "3.5.2"
  }
 },
 "nbformat": 4,
 "nbformat_minor": 0
}
